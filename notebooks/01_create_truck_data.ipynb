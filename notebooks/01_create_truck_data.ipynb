{
 "cells": [
  {
   "cell_type": "code",
   "execution_count": 88,
   "metadata": {
    "ExecuteTime": {
     "end_time": "2021-03-31T01:33:13.241289Z",
     "start_time": "2021-03-31T01:33:13.062221Z"
    }
   },
   "outputs": [
    {
     "name": "stdout",
     "output_type": "stream",
     "text": [
      "1.7.1\n",
      "False\n"
     ]
    }
   ],
   "source": [
    "import torch, torchvision\n",
    "print(torch.__version__)\n",
    "print(torch.cuda.is_available())"
   ]
  },
  {
   "cell_type": "code",
   "execution_count": 1,
   "metadata": {
    "ExecuteTime": {
     "end_time": "2021-03-30T23:56:00.475512Z",
     "start_time": "2021-03-30T23:55:54.792059Z"
    }
   },
   "outputs": [
    {
     "data": {
      "text/plain": [
       "<Logger detectron2 (DEBUG)>"
      ]
     },
     "execution_count": 1,
     "metadata": {},
     "output_type": "execute_result"
    }
   ],
   "source": [
    "import detectron2\n",
    "from detectron2.utils.logger import setup_logger\n",
    "setup_logger()"
   ]
  },
  {
   "cell_type": "code",
   "execution_count": 12,
   "metadata": {
    "ExecuteTime": {
     "end_time": "2021-03-31T00:03:02.561402Z",
     "start_time": "2021-03-31T00:03:02.549927Z"
    }
   },
   "outputs": [],
   "source": [
    "import os\n",
    "import cv2\n",
    "import shutil\n",
    "import json\n",
    "import numpy as np\n",
    "\n",
    "from detectron2.engine import DefaultTrainer\n",
    "from detectron2.config import get_cfg\n",
    "from detectron2.data.datasets import register_coco_instances\n",
    "from detectron2.data import MetadataCatalog, DatasetCatalog"
   ]
  },
  {
   "cell_type": "code",
   "execution_count": 4,
   "metadata": {
    "ExecuteTime": {
     "end_time": "2021-03-31T00:00:07.704126Z",
     "start_time": "2021-03-31T00:00:07.655538Z"
    }
   },
   "outputs": [],
   "source": [
    "with open('../data/iSAID/image_by_category.json', 'r') as fp:\n",
    "    image_by_category = json.load(fp)\n",
    "with open('../data/iSAID/idx_by_category.json', 'r') as fp:\n",
    "    idx_by_category = json.load(fp)\n",
    "with open('../data/iSAID/category_id2name.json', 'r') as fp:\n",
    "    category_id2name = json.load(fp)"
   ]
  },
  {
   "cell_type": "code",
   "execution_count": 9,
   "metadata": {
    "ExecuteTime": {
     "end_time": "2021-03-31T00:02:18.420320Z",
     "start_time": "2021-03-31T00:02:18.408698Z"
    }
   },
   "outputs": [
    {
     "data": {
      "text/plain": [
       "['../data/iSAID/val/images/P0003.png',\n",
       " '../data/iSAID/val/images/P0004.png',\n",
       " '../data/iSAID/val/images/P0007.png']"
      ]
     },
     "execution_count": 9,
     "metadata": {},
     "output_type": "execute_result"
    }
   ],
   "source": [
    "image_by_category['7'][:3]"
   ]
  },
  {
   "cell_type": "code",
   "execution_count": 10,
   "metadata": {
    "ExecuteTime": {
     "end_time": "2021-03-31T00:02:32.245569Z",
     "start_time": "2021-03-31T00:02:32.194324Z"
    }
   },
   "outputs": [],
   "source": [
    "img_path = '../data/iSAID/val/images'\n",
    "anno_path = '../data/iSAID/val/iSAID_val.json'\n",
    "extra_meta = {}     # no additional metadata to be associated w/ dataset"
   ]
  },
  {
   "cell_type": "code",
   "execution_count": 11,
   "metadata": {
    "ExecuteTime": {
     "end_time": "2021-03-31T00:02:37.892784Z",
     "start_time": "2021-03-31T00:02:37.865926Z"
    }
   },
   "outputs": [],
   "source": [
    "register_coco_instances('isaid_full', extra_meta, anno_path, img_path)"
   ]
  },
  {
   "cell_type": "code",
   "execution_count": 13,
   "metadata": {
    "ExecuteTime": {
     "end_time": "2021-03-31T00:03:43.498125Z",
     "start_time": "2021-03-31T00:03:27.389082Z"
    }
   },
   "outputs": [
    {
     "name": "stdout",
     "output_type": "stream",
     "text": [
      "\u001b[32m[03/30 20:03:40 d2.data.datasets.coco]: \u001b[0mLoading ../data/iSAID/val/iSAID_val.json takes 13.50 seconds.\n",
      "\u001b[32m[03/30 20:03:41 d2.data.datasets.coco]: \u001b[0mLoaded 458 images in COCO format from ../data/iSAID/val/iSAID_val.json\n"
     ]
    }
   ],
   "source": [
    "data_list = DatasetCatalog.get('isaid_full')\n",
    "meta_list = MetadataCatalog.get('isaid_full')"
   ]
  },
  {
   "cell_type": "code",
   "execution_count": 14,
   "metadata": {
    "ExecuteTime": {
     "end_time": "2021-03-31T00:04:12.484724Z",
     "start_time": "2021-03-31T00:04:12.245630Z"
    }
   },
   "outputs": [
    {
     "data": {
      "text/plain": [
       "namespace(name='isaid_full',\n",
       "          json_file='../data/iSAID/val/iSAID_val.json',\n",
       "          image_root='../data/iSAID/val/images',\n",
       "          evaluator_type='coco',\n",
       "          thing_classes=['ship',\n",
       "                         'storage_tank',\n",
       "                         'baseball_diamond',\n",
       "                         'tennis_court',\n",
       "                         'basketball_court',\n",
       "                         'Ground_Track_Field',\n",
       "                         'Bridge',\n",
       "                         'Large_Vehicle',\n",
       "                         'Small_Vehicle',\n",
       "                         'Helicopter',\n",
       "                         'Swimming_pool',\n",
       "                         'Roundabout',\n",
       "                         'Soccer_ball_field',\n",
       "                         'plane',\n",
       "                         'Harbor'],\n",
       "          thing_dataset_id_to_contiguous_id={1: 0,\n",
       "                                             2: 1,\n",
       "                                             3: 2,\n",
       "                                             4: 3,\n",
       "                                             5: 4,\n",
       "                                             6: 5,\n",
       "                                             7: 6,\n",
       "                                             8: 7,\n",
       "                                             9: 8,\n",
       "                                             10: 9,\n",
       "                                             11: 10,\n",
       "                                             12: 11,\n",
       "                                             13: 12,\n",
       "                                             14: 13,\n",
       "                                             15: 14})"
      ]
     },
     "execution_count": 14,
     "metadata": {},
     "output_type": "execute_result"
    }
   ],
   "source": [
    "meta_list"
   ]
  },
  {
   "cell_type": "code",
   "execution_count": 15,
   "metadata": {
    "ExecuteTime": {
     "end_time": "2021-03-31T00:08:56.514832Z",
     "start_time": "2021-03-31T00:08:56.452638Z"
    }
   },
   "outputs": [],
   "source": [
    "# create a separate data with only commercial trucks"
   ]
  },
  {
   "cell_type": "code",
   "execution_count": 25,
   "metadata": {
    "ExecuteTime": {
     "end_time": "2021-03-31T00:25:33.882985Z",
     "start_time": "2021-03-31T00:25:33.824431Z"
    },
    "scrolled": true
   },
   "outputs": [
    {
     "name": "stdout",
     "output_type": "stream",
     "text": [
      "skipping large image: ../data/iSAID/val/images/P0007.png\n",
      "skipping large image: ../data/iSAID/val/images/P0019.png\n",
      "skipping large image: ../data/iSAID/val/images/P0027.png\n",
      "skipping large image: ../data/iSAID/val/images/P0047.png\n",
      "skipping large image: ../data/iSAID/val/images/P0060.png\n",
      "skipping large image: ../data/iSAID/val/images/P0128.png\n",
      "skipping large image: ../data/iSAID/val/images/P0146.png\n",
      "skipping large image: ../data/iSAID/val/images/P0161.png\n",
      "skipping large image: ../data/iSAID/val/images/P0168.png\n",
      "skipping large image: ../data/iSAID/val/images/P0179.png\n",
      "skipping large image: ../data/iSAID/val/images/P0491.png\n",
      "skipping large image: ../data/iSAID/val/images/P0589.png\n",
      "skipping large image: ../data/iSAID/val/images/P0683.png\n",
      "skipping large image: ../data/iSAID/val/images/P0696.png\n",
      "skipping large image: ../data/iSAID/val/images/P0704.png\n",
      "skipping large image: ../data/iSAID/val/images/P0795.png\n",
      "skipping large image: ../data/iSAID/val/images/P0837.png\n",
      "skipping large image: ../data/iSAID/val/images/P0841.png\n",
      "skipping large image: ../data/iSAID/val/images/P0858.png\n",
      "skipping large image: ../data/iSAID/val/images/P0864.png\n",
      "skipping large image: ../data/iSAID/val/images/P0897.png\n",
      "skipping large image: ../data/iSAID/val/images/P0990.png\n",
      "skipping large image: ../data/iSAID/val/images/P0998.png\n",
      "skipping large image: ../data/iSAID/val/images/P1007.png\n",
      "skipping large image: ../data/iSAID/val/images/P1009.png\n",
      "skipping large image: ../data/iSAID/val/images/P1014.png\n",
      "skipping large image: ../data/iSAID/val/images/P1023.png\n",
      "skipping large image: ../data/iSAID/val/images/P1065.png\n",
      "skipping large image: ../data/iSAID/val/images/P1075.png\n",
      "skipping large image: ../data/iSAID/val/images/P1122.png\n",
      "skipping large image: ../data/iSAID/val/images/P1134.png\n",
      "skipping large image: ../data/iSAID/val/images/P1143.png\n",
      "skipping large image: ../data/iSAID/val/images/P1147.png\n",
      "skipping large image: ../data/iSAID/val/images/P1178.png\n",
      "skipping large image: ../data/iSAID/val/images/P1179.png\n",
      "skipping large image: ../data/iSAID/val/images/P1184.png\n",
      "skipping large image: ../data/iSAID/val/images/P1376.png\n",
      "skipping large image: ../data/iSAID/val/images/P1377.png\n",
      "skipping large image: ../data/iSAID/val/images/P1380.png\n",
      "skipping large image: ../data/iSAID/val/images/P1384.png\n",
      "skipping large image: ../data/iSAID/val/images/P1390.png\n",
      "skipping large image: ../data/iSAID/val/images/P1397.png\n",
      "skipping large image: ../data/iSAID/val/images/P1410.png\n",
      "skipping large image: ../data/iSAID/val/images/P1429.png\n",
      "skipping large image: ../data/iSAID/val/images/P1432.png\n",
      "skipping large image: ../data/iSAID/val/images/P1434.png\n",
      "skipping large image: ../data/iSAID/val/images/P1463.png\n",
      "skipping large image: ../data/iSAID/val/images/P1471.png\n",
      "skipping large image: ../data/iSAID/val/images/P1474.png\n",
      "skipping large image: ../data/iSAID/val/images/P1476.png\n",
      "skipping large image: ../data/iSAID/val/images/P1492.png\n",
      "skipping large image: ../data/iSAID/val/images/P1508.png\n",
      "skipping large image: ../data/iSAID/val/images/P1513.png\n",
      "skipping large image: ../data/iSAID/val/images/P1786.png\n",
      "skipping large image: ../data/iSAID/val/images/P1809.png\n",
      "skipping large image: ../data/iSAID/val/images/P1854.png\n",
      "skipping large image: ../data/iSAID/val/images/P1973.png\n",
      "skipping large image: ../data/iSAID/val/images/P1995.png\n",
      "skipping large image: ../data/iSAID/val/images/P2027.png\n",
      "skipping large image: ../data/iSAID/val/images/P2059.png\n",
      "skipping large image: ../data/iSAID/val/images/P2181.png\n",
      "skipping large image: ../data/iSAID/val/images/P2194.png\n",
      "skipping large image: ../data/iSAID/val/images/P2197.png\n",
      "skipping large image: ../data/iSAID/val/images/P2230.png\n",
      "skipping large image: ../data/iSAID/val/images/P2231.png\n",
      "skipping large image: ../data/iSAID/val/images/P2242.png\n",
      "skipping large image: ../data/iSAID/val/images/P2256.png\n",
      "skipping large image: ../data/iSAID/val/images/P2271.png\n",
      "skipping large image: ../data/iSAID/val/images/P2286.png\n",
      "skipping large image: ../data/iSAID/val/images/P2331.png\n",
      "skipping large image: ../data/iSAID/val/images/P2337.png\n",
      "skipping large image: ../data/iSAID/val/images/P2342.png\n",
      "skipping large image: ../data/iSAID/val/images/P2363.png\n",
      "skipping large image: ../data/iSAID/val/images/P2365.png\n",
      "skipping large image: ../data/iSAID/val/images/P2375.png\n",
      "skipping large image: ../data/iSAID/val/images/P2378.png\n",
      "skipping large image: ../data/iSAID/val/images/P2385.png\n",
      "skipping large image: ../data/iSAID/val/images/P2393.png\n",
      "skipping large image: ../data/iSAID/val/images/P2404.png\n",
      "skipping large image: ../data/iSAID/val/images/P2408.png\n",
      "skipping large image: ../data/iSAID/val/images/P2413.png\n",
      "skipping large image: ../data/iSAID/val/images/P2420.png\n",
      "skipping large image: ../data/iSAID/val/images/P2429.png\n",
      "skipping large image: ../data/iSAID/val/images/P2446.png\n",
      "skipping large image: ../data/iSAID/val/images/P2449.png\n",
      "skipping large image: ../data/iSAID/val/images/P2455.png\n",
      "skipping large image: ../data/iSAID/val/images/P2462.png\n",
      "skipping large image: ../data/iSAID/val/images/P2477.png\n",
      "skipping large image: ../data/iSAID/val/images/P2488.png\n",
      "skipping large image: ../data/iSAID/val/images/P2502.png\n",
      "skipping large image: ../data/iSAID/val/images/P2504.png\n",
      "skipping large image: ../data/iSAID/val/images/P2539.png\n",
      "skipping large image: ../data/iSAID/val/images/P2541.png\n",
      "skipping large image: ../data/iSAID/val/images/P2542.png\n",
      "skipping large image: ../data/iSAID/val/images/P2547.png\n",
      "skipping large image: ../data/iSAID/val/images/P2592.png\n",
      "skipping large image: ../data/iSAID/val/images/P2598.png\n",
      "skipping large image: ../data/iSAID/val/images/P2608.png\n",
      "skipping large image: ../data/iSAID/val/images/P2610.png\n",
      "skipping large image: ../data/iSAID/val/images/P2625.png\n",
      "skipping large image: ../data/iSAID/val/images/P2645.png\n",
      "skipping large image: ../data/iSAID/val/images/P2678.png\n",
      "skipping large image: ../data/iSAID/val/images/P2689.png\n",
      "skipping large image: ../data/iSAID/val/images/P2695.png\n",
      "skipping large image: ../data/iSAID/val/images/P2701.png\n",
      "skipping large image: ../data/iSAID/val/images/P2709.png\n",
      "skipping large image: ../data/iSAID/val/images/P2733.png\n",
      "skipping large image: ../data/iSAID/val/images/P2754.png\n",
      "skipping large image: ../data/iSAID/val/images/P2758.png\n",
      "skipping large image: ../data/iSAID/val/images/P2766.png\n",
      "skipping large image: ../data/iSAID/val/images/P2768.png\n",
      "skipping large image: ../data/iSAID/val/images/P2771.png\n",
      "skipping large image: ../data/iSAID/val/images/P2778.png\n",
      "skipping large image: ../data/iSAID/val/images/P2781.png\n",
      "skipping large image: ../data/iSAID/val/images/P2789.png\n",
      "skipping large image: ../data/iSAID/val/images/P2791.png\n",
      "skipping large image: ../data/iSAID/val/images/P2794.png\n",
      "skipping large image: ../data/iSAID/val/images/P2802.png\n"
     ]
    }
   ],
   "source": [
    "truck_files_filtered_list = []\n",
    "for idx in idx_by_category['7']:\n",
    "    d = data_list[idx]\n",
    "    # Large image files will cause inconveniences for this demo. Skipping.\n",
    "    # TODO for large image files, split image and mask into smaller parts\n",
    "    if max(d['height'], d['width']) > 2000: \n",
    "        print(f\"skipping large image: {d['file_name']}\")\n",
    "    else:\n",
    "        truck_files_filtered_list.append(d['file_name'])"
   ]
  },
  {
   "cell_type": "code",
   "execution_count": 26,
   "metadata": {
    "ExecuteTime": {
     "end_time": "2021-03-31T00:25:49.306188Z",
     "start_time": "2021-03-31T00:25:49.271372Z"
    }
   },
   "outputs": [
    {
     "data": {
      "text/plain": [
       "109"
      ]
     },
     "execution_count": 26,
     "metadata": {},
     "output_type": "execute_result"
    }
   ],
   "source": [
    "len(truck_files_filtered_list)"
   ]
  },
  {
   "cell_type": "code",
   "execution_count": 27,
   "metadata": {
    "ExecuteTime": {
     "end_time": "2021-03-31T00:26:12.342902Z",
     "start_time": "2021-03-31T00:26:12.321619Z"
    }
   },
   "outputs": [],
   "source": [
    "truck_files_filtered_array = np.array(truck_files_filtered_list)\n",
    "np.random.shuffle(truck_files_filtered_array)"
   ]
  },
  {
   "cell_type": "code",
   "execution_count": 29,
   "metadata": {
    "ExecuteTime": {
     "end_time": "2021-03-31T00:26:47.217417Z",
     "start_time": "2021-03-31T00:26:47.188771Z"
    }
   },
   "outputs": [
    {
     "name": "stdout",
     "output_type": "stream",
     "text": [
      "Training set 76 \t Validation set 33\n"
     ]
    }
   ],
   "source": [
    "# 70/30 split\n",
    "train_size = int(len(truck_files_filtered_array) * .7)\n",
    "train_files = truck_files_filtered_array[:train_size]\n",
    "val_files = truck_files_filtered_array[train_size:]\n",
    "print(f\"Training set {len(train_files)} \\t Validation set {len(val_files)}\")"
   ]
  },
  {
   "cell_type": "code",
   "execution_count": 30,
   "metadata": {
    "ExecuteTime": {
     "end_time": "2021-03-31T00:28:38.638247Z",
     "start_time": "2021-03-31T00:28:34.178172Z"
    }
   },
   "outputs": [],
   "source": [
    "truck_img_path = '../data/iSAID/val/truck'\n",
    "truck_img_train_path = os.path.join(truck_img_path, 'train')\n",
    "truck_img_val_path = os.path.join(truck_img_path, 'val')\n",
    "os.makedirs(truck_img_train_path, exist_ok=True)\n",
    "os.makedirs(truck_img_val_path, exist_ok=True)\n",
    "for src in train_files:\n",
    "    shutil.copyfile(src, os.path.join(truck_img_train_path, os.path.basename(src)))\n",
    "for src in val_files:\n",
    "    shutil.copyfile(src, os.path.join(truck_img_val_path, os.path.basename(src)))"
   ]
  },
  {
   "cell_type": "code",
   "execution_count": 36,
   "metadata": {
    "ExecuteTime": {
     "end_time": "2021-03-31T00:38:09.367538Z",
     "start_time": "2021-03-31T00:37:43.442488Z"
    }
   },
   "outputs": [],
   "source": [
    "# we also need to subset the json\n",
    "with open(anno_path, 'r') as fp:\n",
    "    full_anno = json.load(fp)"
   ]
  },
  {
   "cell_type": "code",
   "execution_count": 37,
   "metadata": {
    "ExecuteTime": {
     "end_time": "2021-03-31T00:38:58.857440Z",
     "start_time": "2021-03-31T00:38:58.815374Z"
    }
   },
   "outputs": [
    {
     "data": {
      "text/plain": [
       "dict_keys(['images', 'categories', 'annotations'])"
      ]
     },
     "execution_count": 37,
     "metadata": {},
     "output_type": "execute_result"
    }
   ],
   "source": [
    "full_anno.keys()"
   ]
  },
  {
   "cell_type": "code",
   "execution_count": 39,
   "metadata": {
    "ExecuteTime": {
     "end_time": "2021-03-31T00:40:37.888024Z",
     "start_time": "2021-03-31T00:40:37.859034Z"
    }
   },
   "outputs": [
    {
     "data": {
      "text/plain": [
       "{'id': 0,\n",
       " 'width': 1147,\n",
       " 'height': 1023,\n",
       " 'file_name': 'P0003.png',\n",
       " 'ins_file_name': 'P0003_instance_id_RGB.png',\n",
       " 'seg_file_name': 'P0003_instance_color_RGB.png'}"
      ]
     },
     "execution_count": 39,
     "metadata": {},
     "output_type": "execute_result"
    }
   ],
   "source": [
    "full_anno['images'][0]"
   ]
  },
  {
   "cell_type": "code",
   "execution_count": 41,
   "metadata": {
    "ExecuteTime": {
     "end_time": "2021-03-31T00:41:58.235726Z",
     "start_time": "2021-03-31T00:41:58.171183Z"
    }
   },
   "outputs": [
    {
     "data": {
      "text/plain": [
       "[{'id': 2, 'name': 'storage_tank'},\n",
       " {'id': 8, 'name': 'Large_Vehicle'},\n",
       " {'id': 9, 'name': 'Small_Vehicle'},\n",
       " {'id': 1, 'name': 'ship'},\n",
       " {'id': 15, 'name': 'Harbor'},\n",
       " {'id': 3, 'name': 'baseball_diamond'},\n",
       " {'id': 6, 'name': 'Ground_Track_Field'},\n",
       " {'id': 13, 'name': 'Soccer_ball_field'},\n",
       " {'id': 11, 'name': 'Swimming_pool'},\n",
       " {'id': 12, 'name': 'Roundabout'},\n",
       " {'id': 4, 'name': 'tennis_court'},\n",
       " {'id': 5, 'name': 'basketball_court'},\n",
       " {'id': 14, 'name': 'plane'},\n",
       " {'id': 10, 'name': 'Helicopter'},\n",
       " {'id': 7, 'name': 'Bridge'}]"
      ]
     },
     "execution_count": 41,
     "metadata": {},
     "output_type": "execute_result"
    }
   ],
   "source": [
    "full_anno['categories']"
   ]
  },
  {
   "cell_type": "code",
   "execution_count": 45,
   "metadata": {
    "ExecuteTime": {
     "end_time": "2021-03-31T00:52:54.998271Z",
     "start_time": "2021-03-31T00:52:54.958974Z"
    }
   },
   "outputs": [
    {
     "data": {
      "text/plain": [
       "116649"
      ]
     },
     "execution_count": 45,
     "metadata": {},
     "output_type": "execute_result"
    }
   ],
   "source": [
    "len(full_anno['annotations'])"
   ]
  },
  {
   "cell_type": "code",
   "execution_count": 71,
   "metadata": {
    "ExecuteTime": {
     "end_time": "2021-03-31T01:16:17.629327Z",
     "start_time": "2021-03-31T01:16:17.594194Z"
    }
   },
   "outputs": [],
   "source": [
    "def subset_full_anno(full_anno, subset_filenames, category_name='Large_Vehicle'):\n",
    "    out = {'images':[], 'categories':[], 'annotations':[]}\n",
    "    subset_filenames = set(subset_filenames)  # faster lookup\n",
    "    out['images'] = [i for i in full_anno['images'] if i['file_name'] in subset_filenames ]\n",
    "    image_ids = set([i['id'] for i in out['images']])\n",
    "    out['annotations'] = [a for a in full_anno['annotations'] if a['category_name'] == category_name\\\n",
    "                          and a['image_id'] in image_ids]\n",
    "    out['categories'] = [{'id': 8, 'name': 'Large_Vehicle'}]\n",
    "    return out"
   ]
  },
  {
   "cell_type": "code",
   "execution_count": 72,
   "metadata": {
    "ExecuteTime": {
     "end_time": "2021-03-31T01:16:39.234726Z",
     "start_time": "2021-03-31T01:16:39.061123Z"
    }
   },
   "outputs": [],
   "source": [
    "train_anno = subset_full_anno(full_anno, [os.path.basename(fp) for fp in train_files])\n",
    "val_anno = subset_full_anno(full_anno, [os.path.basename(fp) for fp in val_files])"
   ]
  },
  {
   "cell_type": "code",
   "execution_count": 73,
   "metadata": {
    "ExecuteTime": {
     "end_time": "2021-03-31T01:16:56.536370Z",
     "start_time": "2021-03-31T01:16:53.474854Z"
    }
   },
   "outputs": [],
   "source": [
    "with open('../data/iSAID/val/truck/train_anno.json', 'w') as fp:\n",
    "    json.dump(train_anno, fp)\n",
    "with open('../data/iSAID/val/truck/val_anno.json', 'w') as fp:\n",
    "    json.dump(val_anno, fp)"
   ]
  },
  {
   "cell_type": "code",
   "execution_count": 74,
   "metadata": {
    "ExecuteTime": {
     "end_time": "2021-03-31T01:17:14.194949Z",
     "start_time": "2021-03-31T01:17:14.161577Z"
    }
   },
   "outputs": [],
   "source": [
    "register_coco_instances('isaid_truck_train3', \n",
    "                        extra_meta, \n",
    "                        '../data/iSAID/val/truck/train_anno.json',\n",
    "                        truck_img_train_path)\n",
    "register_coco_instances('isaid_truck_val3', \n",
    "                        extra_meta, \n",
    "                        '../data/iSAID/val/truck/val_anno.json',\n",
    "                        truck_img_val_path)"
   ]
  },
  {
   "cell_type": "code",
   "execution_count": 99,
   "metadata": {
    "ExecuteTime": {
     "end_time": "2021-03-31T03:50:46.788507Z",
     "start_time": "2021-03-31T03:50:46.637188Z"
    }
   },
   "outputs": [
    {
     "data": {
      "text/plain": [
       "'../data/iSAID/val/truck/train'"
      ]
     },
     "execution_count": 99,
     "metadata": {},
     "output_type": "execute_result"
    }
   ],
   "source": [
    "truck_img_train_path"
   ]
  },
  {
   "cell_type": "code",
   "execution_count": 75,
   "metadata": {
    "ExecuteTime": {
     "end_time": "2021-03-31T01:17:29.562157Z",
     "start_time": "2021-03-31T01:17:28.725056Z"
    }
   },
   "outputs": [
    {
     "name": "stdout",
     "output_type": "stream",
     "text": [
      "\u001b[5m\u001b[31mWARNING\u001b[0m \u001b[32m[03/30 21:17:29 d2.data.datasets.coco]: \u001b[0m\n",
      "Category ids in annotations are not in [1, #categories]! We'll apply a mapping for you.\n",
      "\n",
      "\u001b[32m[03/30 21:17:29 d2.data.datasets.coco]: \u001b[0mLoaded 76 images in COCO format from ../data/iSAID/val/truck/train_anno.json\n"
     ]
    }
   ],
   "source": [
    "# sanity check\n",
    "data_list = DatasetCatalog.get('isaid_truck_train3')\n",
    "meta_list = MetadataCatalog.get('isaid_truck_train3')"
   ]
  },
  {
   "cell_type": "code",
   "execution_count": 76,
   "metadata": {
    "ExecuteTime": {
     "end_time": "2021-03-31T01:18:06.315157Z",
     "start_time": "2021-03-31T01:18:06.234733Z"
    }
   },
   "outputs": [
    {
     "data": {
      "text/plain": [
       "namespace(name='isaid_truck_train3',\n",
       "          json_file='../data/iSAID/val/truck/train_anno.json',\n",
       "          image_root='../data/iSAID/val/truck/train',\n",
       "          evaluator_type='coco',\n",
       "          thing_classes=['Large_Vehicle'],\n",
       "          thing_dataset_id_to_contiguous_id={8: 0})"
      ]
     },
     "execution_count": 76,
     "metadata": {},
     "output_type": "execute_result"
    }
   ],
   "source": [
    "meta_list"
   ]
  },
  {
   "cell_type": "code",
   "execution_count": 78,
   "metadata": {
    "ExecuteTime": {
     "end_time": "2021-03-31T01:19:04.670316Z",
     "start_time": "2021-03-31T01:19:04.150541Z"
    }
   },
   "outputs": [
    {
     "name": "stdout",
     "output_type": "stream",
     "text": [
      "\u001b[5m\u001b[31mWARNING\u001b[0m \u001b[32m[03/30 21:19:04 d2.data.datasets.coco]: \u001b[0m\n",
      "Category ids in annotations are not in [1, #categories]! We'll apply a mapping for you.\n",
      "\n",
      "\u001b[32m[03/30 21:19:04 d2.data.datasets.coco]: \u001b[0mLoaded 33 images in COCO format from ../data/iSAID/val/truck/val_anno.json\n"
     ]
    }
   ],
   "source": [
    "data_list = DatasetCatalog.get('isaid_truck_val3')\n",
    "meta_list = MetadataCatalog.get('isaid_truck_val3')"
   ]
  },
  {
   "cell_type": "code",
   "execution_count": 79,
   "metadata": {
    "ExecuteTime": {
     "end_time": "2021-03-31T01:19:23.433440Z",
     "start_time": "2021-03-31T01:19:23.402375Z"
    }
   },
   "outputs": [
    {
     "data": {
      "text/plain": [
       "namespace(name='isaid_truck_val3',\n",
       "          json_file='../data/iSAID/val/truck/val_anno.json',\n",
       "          image_root='../data/iSAID/val/truck/val',\n",
       "          evaluator_type='coco',\n",
       "          thing_classes=['Large_Vehicle'],\n",
       "          thing_dataset_id_to_contiguous_id={8: 0})"
      ]
     },
     "execution_count": 79,
     "metadata": {},
     "output_type": "execute_result"
    }
   ],
   "source": [
    "meta_list"
   ]
  }
 ],
 "metadata": {
  "kernelspec": {
   "display_name": "Python 3",
   "language": "python",
   "name": "python3"
  },
  "language_info": {
   "codemirror_mode": {
    "name": "ipython",
    "version": 3
   },
   "file_extension": ".py",
   "mimetype": "text/x-python",
   "name": "python",
   "nbconvert_exporter": "python",
   "pygments_lexer": "ipython3",
   "version": "3.7.7"
  },
  "varInspector": {
   "cols": {
    "lenName": 16,
    "lenType": 16,
    "lenVar": 40
   },
   "kernels_config": {
    "python": {
     "delete_cmd_postfix": "",
     "delete_cmd_prefix": "del ",
     "library": "var_list.py",
     "varRefreshCmd": "print(var_dic_list())"
    },
    "r": {
     "delete_cmd_postfix": ") ",
     "delete_cmd_prefix": "rm(",
     "library": "var_list.r",
     "varRefreshCmd": "cat(var_dic_list()) "
    }
   },
   "types_to_exclude": [
    "module",
    "function",
    "builtin_function_or_method",
    "instance",
    "_Feature"
   ],
   "window_display": false
  }
 },
 "nbformat": 4,
 "nbformat_minor": 4
}
